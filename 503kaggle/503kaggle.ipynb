{
 "cells": [
  {
   "cell_type": "code",
   "execution_count": 1,
   "id": "693d9489-ef15-4364-a5b9-c0295a02f641",
   "metadata": {
    "tags": []
   },
   "outputs": [],
   "source": [
    "# import modules\n",
    "import numpy as np\n",
    "import pandas as pd\n",
    "import torch\n",
    "import torch.nn as nn\n",
    "import sklearn.model_selection\n",
    "from torch.utils.data import DataLoader\n",
    "from tqdm import tqdm\n",
    "from sklearn.preprocessing import StandardScaler\n",
    "import matplotlib.pyplot as plt"
   ]
  },
  {
   "cell_type": "code",
   "execution_count": 49,
   "id": "5b8e2ad2-ea50-4428-b861-148bb50d9c51",
   "metadata": {
    "tags": []
   },
   "outputs": [
    {
     "data": {
      "text/plain": [
       "((8000, 56), (4000, 55))"
      ]
     },
     "execution_count": 49,
     "metadata": {},
     "output_type": "execute_result"
    }
   ],
   "source": [
    "# load the data\n",
    "train = pd.read_csv(\"train.csv\")\n",
    "test = pd.read_csv(\"test.csv\")\n",
    "train.shape, test.shape"
   ]
  },
  {
   "cell_type": "code",
   "execution_count": 50,
   "id": "42e184f3-8f8c-4adc-8c3c-e8f1e19da1c7",
   "metadata": {
    "tags": []
   },
   "outputs": [
    {
     "data": {
      "text/plain": [
       "((8000, 62), (4000, 61))"
      ]
     },
     "execution_count": 50,
     "metadata": {},
     "output_type": "execute_result"
    }
   ],
   "source": [
    "# data preprocessing(one-hot encoding)\n",
    "train = pd.get_dummies(train, columns = ['district'])\n",
    "test = pd.get_dummies(test, columns = ['district'])\n",
    "train.shape, test.shape"
   ]
  },
  {
   "cell_type": "code",
   "execution_count": 51,
   "id": "f961437b-b9b0-4a2b-b931-e146279b754a",
   "metadata": {
    "tags": []
   },
   "outputs": [],
   "source": [
    "# extract X and y\n",
    "\n",
    "X = train.drop(columns = [\"y\",\"SEQN\"]).values\n",
    "y = train.y.values\n",
    "\n",
    "# X = train[[\"self_eval\",\"teacher_eval\",\"extracurricular\",\"district_1\",\"district_2\",\"district_3\",\"district_4\",\"district_5\",\"district_6\",\"district_7\"]].values\n",
    "# y = train.y.values"
   ]
  },
  {
   "cell_type": "code",
   "execution_count": 48,
   "id": "d518240b-7bf6-4bc9-87f4-977127de2fe1",
   "metadata": {
    "tags": []
   },
   "outputs": [],
   "source": [
    "# scale X\n",
    "scaler = StandardScaler()\n",
    "scaler.fit(X)\n",
    "X = scaler.transform(X)"
   ]
  },
  {
   "cell_type": "code",
   "execution_count": 52,
   "id": "293e74d4-88df-4ec8-9193-285ba25abeda",
   "metadata": {
    "tags": []
   },
   "outputs": [],
   "source": [
    "# split training data into train and validation\n",
    "X_train, X_valid, y_train, y_valid = sklearn.model_selection.train_test_split(X, y, test_size = 0.2, random_state = 1)"
   ]
  },
  {
   "cell_type": "code",
   "execution_count": 53,
   "id": "475402e5-d97c-4e37-9d6c-49f29e1befa3",
   "metadata": {
    "tags": []
   },
   "outputs": [],
   "source": [
    "# convert training data into torch tensors\n",
    "\n",
    "X_train = torch.tensor(X_train, dtype=torch.float32)\n",
    "y_train = torch.tensor(y_train, dtype=torch.float32).reshape(-1,1)\n",
    "X_valid = torch.tensor(X_valid, dtype=torch.float32)\n",
    "y_valid = torch.tensor(y_valid, dtype=torch.float32).reshape(-1,1)\n",
    "\n",
    "# X = torch.tensor(X, dtype=torch.float32)\n",
    "# y = torch.tensor(y, dtype=torch.float32).reshape(-1,1)"
   ]
  },
  {
   "cell_type": "code",
   "execution_count": 7,
   "id": "b6c1e817-4cb6-47a9-ac37-82aac8f1a43e",
   "metadata": {
    "tags": []
   },
   "outputs": [],
   "source": [
    "# create network(model)\n",
    "# raw model\n",
    "class Net1(nn.Module):\n",
    "    # constructor\n",
    "    def __init__(self, H1, H2, D_out):\n",
    "        super(Net1, self).__init__()\n",
    "        self.net = nn.Sequential(\n",
    "            nn.LazyLinear(H1),\n",
    "            nn.ReLU(),\n",
    "            nn.LazyLinear(H2),\n",
    "            nn.ReLU(),\n",
    "            nn.LazyLinear(D_out))\n",
    "        \n",
    "    # prediction\n",
    "    def forward(self, x):\n",
    "        return self.net(x)"
   ]
  },
  {
   "cell_type": "code",
   "execution_count": 8,
   "id": "2e0ece7b-9151-4b86-a6b3-e8cb44f74b56",
   "metadata": {
    "tags": []
   },
   "outputs": [],
   "source": [
    "# create network(model)\n",
    "# with dropout model\n",
    "class Net2(nn.Module):\n",
    "    # constructor\n",
    "    def __init__(self, H1, H2, D_out):\n",
    "        super(Net2, self).__init__()\n",
    "        self.net = nn.Sequential(\n",
    "            nn.LazyLinear(H1),\n",
    "            nn.ReLU(),\n",
    "            nn.Dropout(p = 0.2),\n",
    "            nn.LazyLinear(H2),\n",
    "            nn.ReLU(),\n",
    "            nn.LazyLinear(D_out))\n",
    "        \n",
    "    # prediction\n",
    "    def forward(self, x):\n",
    "        return self.net(x)"
   ]
  },
  {
   "cell_type": "code",
   "execution_count": 9,
   "id": "4a61fa87-47d8-438a-9ab8-8bac5cfe1fa8",
   "metadata": {
    "tags": []
   },
   "outputs": [],
   "source": [
    "# create network(model)\n",
    "# deeper model\n",
    "class Net3(nn.Module):\n",
    "    # constructor\n",
    "    def __init__(self, H1, H2, H3, H4, H5, H6, D_out):\n",
    "        super(Net3, self).__init__()\n",
    "        self.net = nn.Sequential(\n",
    "            nn.LazyLinear(H1),\n",
    "            nn.ReLU(),\n",
    "            nn.LazyLinear(H2),\n",
    "            nn.ReLU(),\n",
    "            nn.LazyLinear(H3),\n",
    "            nn.ReLU(),\n",
    "#            nn.Dropout(p = 0.2),\n",
    "            nn.LazyLinear(H4),\n",
    "            nn.ReLU(),\n",
    "#            nn.Dropout(p = 0.2),\n",
    "            nn.LazyLinear(H5),\n",
    "            nn.ReLU(),\n",
    "            nn.LazyLinear(H6),\n",
    "            nn.ReLU(),\n",
    "            nn.LazyLinear(D_out))\n",
    "        \n",
    "    # prediction\n",
    "    def forward(self, x):\n",
    "        return self.net(x)"
   ]
  },
  {
   "cell_type": "code",
   "execution_count": 69,
   "id": "b325e1e5-578a-4ffd-9ebc-a7ee959dff12",
   "metadata": {
    "tags": []
   },
   "outputs": [],
   "source": [
    "# create network(model)\n",
    "# deeper model\n",
    "class Net4(nn.Module):\n",
    "    # constructor\n",
    "    def __init__(self, H1, H2, H3, H4, H5, H6, H7, H8, D_out):\n",
    "        super(Net4, self).__init__()\n",
    "        self.net = nn.Sequential(\n",
    "            nn.LazyLinear(H1),\n",
    "            nn.ReLU(),\n",
    "#            nn.BatchNorm1d(H1),\n",
    "            nn.LazyLinear(H2),\n",
    "            nn.ReLU(),\n",
    "#            nn.BatchNorm1d(H2),\n",
    "            nn.LazyLinear(H3),\n",
    "            nn.ReLU(),\n",
    "#            nn.BatchNorm1d(H3),\n",
    "#            nn.Dropout(p = 0.2),\n",
    "            nn.LazyLinear(H4),\n",
    "            nn.ReLU(),\n",
    "#            nn.BatchNorm1d(H4),\n",
    "#            nn.Dropout(p = 0.5),\n",
    "            nn.LazyLinear(H5),\n",
    "            nn.ReLU(),\n",
    "#            nn.BatchNorm1d(H5),\n",
    "#            nn.Dropout(p = 0.5),\n",
    "            nn.LazyLinear(H6),\n",
    "            nn.ReLU(),\n",
    "#            nn.BatchNorm1d(H6),\n",
    "#            nn.Dropout(p = 0.2),\n",
    "            nn.LazyLinear(H7),\n",
    "            nn.ReLU(),\n",
    "#            nn.BatchNorm1d(H7),\n",
    "            nn.LazyLinear(H8),\n",
    "            nn.ReLU(),\n",
    "#            nn.BatchNorm1d(H8),\n",
    "            nn.LazyLinear(D_out))\n",
    "        \n",
    "    # prediction\n",
    "    def forward(self, x):\n",
    "        return self.net(x)"
   ]
  },
  {
   "cell_type": "code",
   "execution_count": 11,
   "id": "8e4eeeeb-404e-4f93-a9fd-f461445d0479",
   "metadata": {
    "tags": []
   },
   "outputs": [],
   "source": [
    "# create network(model)\n",
    "# deeper model with batch normalization\n",
    "class Net5(nn.Module):\n",
    "    # constructor\n",
    "    def __init__(self, H1, H2, H3, H4, H5, H6, D_out):\n",
    "        super(Net5, self).__init__()\n",
    "        self.net = nn.Sequential(\n",
    "            nn.LazyLinear(H1),\n",
    "            nn.ReLU(),\n",
    "#            nn.BatchNorm1d(H1),\n",
    "            nn.LazyLinear(H2),\n",
    "            nn.ReLU(),\n",
    "#            nn.BatchNorm1d(H2),\n",
    "            nn.LazyLinear(H3),\n",
    "            nn.ReLU(),\n",
    "#            nn.Dropout(p = 0.2),\n",
    "#            nn.BatchNorm1d(H3),\n",
    "            nn.LazyLinear(H4),\n",
    "            nn.ReLU(),\n",
    "#            nn.Dropout(p = 0.2),\n",
    "#            nn.BatchNorm1d(H4),\n",
    "            nn.LazyLinear(H5),\n",
    "            nn.ReLU(),\n",
    "#            nn.BatchNorm1d(H5),\n",
    "            nn.LazyLinear(H6),\n",
    "            nn.ReLU(),\n",
    "#            nn.BatchNorm1d(H6),\n",
    "            nn.LazyLinear(D_out))\n",
    "        \n",
    "    # prediction\n",
    "    def forward(self, x):\n",
    "        return self.net(x)"
   ]
  },
  {
   "cell_type": "code",
   "execution_count": 12,
   "id": "bbb0cfba-f411-4a12-9e83-dc5a165c9d2b",
   "metadata": {
    "tags": []
   },
   "outputs": [],
   "source": [
    "# create loss function(criterion)\n",
    "mae = nn.L1Loss()\n",
    "mse = nn.MSELoss()"
   ]
  },
  {
   "cell_type": "code",
   "execution_count": 54,
   "id": "f427d06d-d23c-4e01-bea8-9a70a5885e23",
   "metadata": {
    "tags": []
   },
   "outputs": [],
   "source": [
    "# create data_loader to split into batches(train_loader and test_loader)\n",
    "train_loader = DataLoader(dataset=list(zip(X_train,y_train)), batch_size=40, shuffle=True)\n",
    "test_loader = DataLoader(dataset=list(zip(X_valid,y_valid)), batch_size=40, shuffle=False)\n",
    "\n",
    "# train_loader = DataLoader(dataset=list(zip(X,y)), batch_size=40, shuffle=True)"
   ]
  },
  {
   "cell_type": "code",
   "execution_count": 55,
   "id": "dd267642-2b3f-42fd-9834-2158eddaf2a6",
   "metadata": {
    "tags": []
   },
   "outputs": [],
   "source": [
    "# Train with validation loop\n",
    "def train(model, criterion, train_loader, test_loader, optimizer, epochs = 100):\n",
    "    metrics = {'training_loss':[], 'validation_loss':[]}\n",
    "    tbar = tqdm(range(epochs), position=0, leave=True)\n",
    "    for _ in tbar:\n",
    "        loss_train_total = 0\n",
    "        for x, y in train_loader:\n",
    "            optimizer.zero_grad()\n",
    "            z = model(x)\n",
    "            loss_train = criterion(z, y)\n",
    "            loss_train.backward()\n",
    "            optimizer.step()\n",
    "            loss_train_total += loss_train.item()\n",
    "        \n",
    "        metrics['training_loss'].append(loss_train_total/len(train_loader))\n",
    "        tbar.set_description(f\"Train loss: {loss_train_total/len(train_loader)}\")\n",
    "        \n",
    "        loss_valid_total = 0\n",
    "        for x, y in test_loader:\n",
    "            z = model(x)\n",
    "            loss_valid = criterion(z, y)\n",
    "            loss_valid_total += loss_valid.item()\n",
    "            \n",
    "        metrics['validation_loss'].append(loss_valid_total/len(test_loader))\n",
    "            \n",
    "    return metrics\n",
    "\n",
    "# Train without validation loop\n",
    "\n",
    "def train_all(model, criterion, train_loader, optimizer, epochs = 100):\n",
    "    metrics = {'training_loss':[]}\n",
    "    tbar = tqdm(range(epochs), position=0, leave=True)\n",
    "    for _ in tbar:\n",
    "        loss_train_total = 0\n",
    "        for x, y in train_loader:\n",
    "            optimizer.zero_grad()\n",
    "            z = model(x)\n",
    "            loss_train = criterion(z, y)\n",
    "            loss_train.backward()\n",
    "            optimizer.step()\n",
    "            loss_train_total += loss_train.item()\n",
    "        \n",
    "        metrics['training_loss'].append(loss_train_total/len(train_loader))\n",
    "        tbar.set_description(f\"Train loss: {loss_train_total/len(train_loader)}\")\n",
    "            \n",
    "    return metrics"
   ]
  },
  {
   "cell_type": "code",
   "execution_count": 89,
   "id": "908f8866-6c45-4d44-b965-393b615366dd",
   "metadata": {
    "tags": []
   },
   "outputs": [],
   "source": [
    "# create optimizer(optimizer)\n",
    "\n",
    "# # best result for Net3: epochs = 250\n",
    "# learning_rate = 0.001\n",
    "# model = Net3(64, 128, 256, 256, 128, 64, 1)\n",
    "# optimizer = torch.optim.SGD(model.parameters(), lr = learning_rate, weight_decay = 0.01)\n",
    "\n",
    "# # best result for Net3: epochs = 2000, not scale data\n",
    "# learning_rate = 0.0001\n",
    "# model = Net3(64, 128, 256, 256, 128, 64, 1)\n",
    "# optimizer = torch.optim.SGD(model.parameters(), lr = learning_rate, weight_decay = 0.01)\n",
    "\n",
    "# best result for Net3: epochs = 2000, not scale data\n",
    "learning_rate = 0.0001\n",
    "model = Net3(64, 128, 256, 256, 128, 64, 1)\n",
    "optimizer = torch.optim.SGD(model.parameters(), lr = learning_rate, weight_decay = 0.01, momentum = 0.9)"
   ]
  },
  {
   "cell_type": "code",
   "execution_count": 90,
   "id": "2cb1b339-a4f5-4b9b-a7f2-96df67e8ecb2",
   "metadata": {
    "tags": []
   },
   "outputs": [
    {
     "name": "stderr",
     "output_type": "stream",
     "text": [
      "Train loss: 0.11240112853702158: 100%|████████████████████████████████████████████████████████| 500/500 [02:32<00:00,  3.28it/s]\n"
     ]
    }
   ],
   "source": [
    "model_results = train(model, mse, train_loader, test_loader, optimizer, epochs = 500)"
   ]
  },
  {
   "cell_type": "code",
   "execution_count": 40,
   "id": "56d46a29-1336-4849-9bee-eb184fb3316f",
   "metadata": {
    "tags": []
   },
   "outputs": [
    {
     "name": "stderr",
     "output_type": "stream",
     "text": [
      "Train loss: 0.19801444478332997: 100%|████████████████████████████████████████████████████████| 500/500 [04:46<00:00,  1.74it/s]\n"
     ]
    }
   ],
   "source": [
    "# training with all data\n",
    "model_results = train_all(model, mse, train_loader, optimizer, epochs = 500)"
   ]
  },
  {
   "cell_type": "code",
   "execution_count": 91,
   "id": "118997e6-2d44-47c7-9ef0-26266ffffb38",
   "metadata": {
    "tags": []
   },
   "outputs": [
    {
     "name": "stdout",
     "output_type": "stream",
     "text": [
      "minimum validation loss: 0.3214000713080168\n",
      "corresponding epoch: 224\n",
      "last epoch: 0.3649757642298937\n"
     ]
    }
   ],
   "source": [
    "# find the minimum validation loss\n",
    "min_loss = min(model_results['validation_loss'])\n",
    "print(f'minimum validation loss: {min_loss}')\n",
    "\n",
    "# find the epoch of minimum validation loss\n",
    "epoch_min = model_results['validation_loss'].index(min(model_results['validation_loss']))\n",
    "print(f'corresponding epoch: {epoch_min}')\n",
    "\n",
    "# last epoch validation loss\n",
    "epoch_last = model_results['validation_loss'][-1]\n",
    "print(f'last epoch: {epoch_last}')"
   ]
  },
  {
   "cell_type": "code",
   "execution_count": 92,
   "id": "683bff3f-8a30-430e-97fa-3db0c88fb6ff",
   "metadata": {
    "tags": []
   },
   "outputs": [
    {
     "data": {
      "image/png": "[encoded data removed]",
      "text/plain": [
       "<Figure size 640x480 with 1 Axes>"
      ]
     },
     "metadata": {},
     "output_type": "display_data"
    }
   ],
   "source": [
    "plt.plot(model_results['training_loss'], label = 'train_loss')\n",
    "plt.plot(model_results['validation_loss'], label = 'valid_loss')\n",
    "plt.ylabel('loss')\n",
    "plt.xlabel('epoch')\n",
    "plt.legend()\n",
    "_ = plt.show()"
   ]
  },
  {
   "cell_type": "code",
   "execution_count": 42,
   "id": "0d04be4c-a1a7-4e90-b5f4-12f7bbae632c",
   "metadata": {
    "tags": []
   },
   "outputs": [],
   "source": [
    "# predict on test data\n",
    "X_new = test.drop(columns = [\"SEQN\"]).values\n",
    "\n",
    "scaler = StandardScaler()\n",
    "scaler.fit(X_new)\n",
    "X_new = scaler.transform(X_new)\n",
    "\n",
    "X_train = torch.tensor(X_new, dtype=torch.float32)\n",
    "\n",
    "predict = model(X_train)\n",
    "\n",
    "submission = pd.DataFrame({'SEQN':test.SEQN,\n",
    "                           'y':predict.view(-1).detach().numpy()})\n",
    "submission.to_csv('submission.csv', index=False)"
   ]
  }
 ],
 "metadata": {
  "kernelspec": {
   "display_name": "Python 3 (ipykernel)",
   "language": "python",
   "name": "python3"
  },
  "language_info": {
   "codemirror_mode": {
    "name": "ipython",
    "version": 3
   },
   "file_extension": ".py",
   "mimetype": "text/x-python",
   "name": "python",
   "nbconvert_exporter": "python",
   "pygments_lexer": "ipython3",
   "version": "3.11.3"
  }
 },
 "nbformat": 4,
 "nbformat_minor": 5
}
