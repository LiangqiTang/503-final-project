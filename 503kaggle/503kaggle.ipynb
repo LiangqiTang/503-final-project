{
 "cells": [
  {
   "cell_type": "code",
   "execution_count": 1,
   "id": "693d9489-ef15-4364-a5b9-c0295a02f641",
   "metadata": {
    "tags": []
   },
   "outputs": [],
   "source": [
    "# import modules\n",
    "import numpy as np\n",
    "import pandas as pd\n",
    "import torch\n",
    "import torch.nn as nn\n",
    "import sklearn.model_selection\n",
    "from torch.utils.data import DataLoader\n",
    "from tqdm import tqdm\n",
    "from sklearn.preprocessing import StandardScaler\n",
    "import matplotlib.pyplot as plt\n",
    "from sklearn.model_selection import KFold\n",
    "from multiprocessing import Pool"
   ]
  },
  {
   "cell_type": "code",
   "execution_count": 2,
   "id": "5b8e2ad2-ea50-4428-b861-148bb50d9c51",
   "metadata": {
    "tags": []
   },
   "outputs": [
    {
     "data": {
      "text/plain": [
       "((8000, 56), (4000, 55))"
      ]
     },
     "execution_count": 2,
     "metadata": {},
     "output_type": "execute_result"
    }
   ],
   "source": [
    "# load the data\n",
    "train = pd.read_csv(\"train.csv\")\n",
    "test = pd.read_csv(\"test.csv\")\n",
    "train.shape, test.shape"
   ]
  },
  {
   "cell_type": "code",
   "execution_count": 3,
   "id": "42e184f3-8f8c-4adc-8c3c-e8f1e19da1c7",
   "metadata": {
    "tags": []
   },
   "outputs": [
    {
     "data": {
      "text/plain": [
       "((8000, 62), (4000, 61))"
      ]
     },
     "execution_count": 3,
     "metadata": {},
     "output_type": "execute_result"
    }
   ],
   "source": [
    "# data preprocessing(one-hot encoding)\n",
    "train = pd.get_dummies(train, columns = ['district'])\n",
    "test = pd.get_dummies(test, columns = ['district'])\n",
    "train.shape, test.shape"
   ]
  },
  {
   "cell_type": "code",
   "execution_count": 4,
   "id": "f961437b-b9b0-4a2b-b931-e146279b754a",
   "metadata": {
    "tags": []
   },
   "outputs": [],
   "source": [
    "# extract X and y\n",
    "\n",
    "X = train.drop(columns = [\"y\",\"SEQN\"]).values\n",
    "y = train.y.values\n",
    "\n",
    "# X = train[[\"self_eval\",\"teacher_eval\",\"extracurricular\",\"district_1\",\"district_2\",\"district_3\",\"district_4\",\"district_5\",\"district_6\",\"district_7\"]].values\n",
    "# y = train.y.values"
   ]
  },
  {
   "cell_type": "code",
   "execution_count": 5,
   "id": "293e74d4-88df-4ec8-9193-285ba25abeda",
   "metadata": {
    "tags": []
   },
   "outputs": [],
   "source": [
    "# split training data into train and validation\n",
    "X_train, X_valid, y_train, y_valid = sklearn.model_selection.train_test_split(X, y, test_size = 0.2, random_state = 1)"
   ]
  },
  {
   "cell_type": "code",
   "execution_count": 6,
   "id": "475402e5-d97c-4e37-9d6c-49f29e1befa3",
   "metadata": {
    "tags": []
   },
   "outputs": [],
   "source": [
    "# convert training data into torch tensors\n",
    "\n",
    "X_train = torch.tensor(X_train, dtype=torch.float32)\n",
    "y_train = torch.tensor(y_train, dtype=torch.float32).reshape(-1,1)\n",
    "X_valid = torch.tensor(X_valid, dtype=torch.float32)\n",
    "y_valid = torch.tensor(y_valid, dtype=torch.float32).reshape(-1,1)\n",
    "\n",
    "# X = torch.tensor(X, dtype=torch.float32)\n",
    "# y = torch.tensor(y, dtype=torch.float32).reshape(-1,1)"
   ]
  },
  {
   "cell_type": "code",
   "execution_count": 6,
   "id": "b6c1e817-4cb6-47a9-ac37-82aac8f1a43e",
   "metadata": {
    "tags": []
   },
   "outputs": [],
   "source": [
    "# create network(model)\n",
    "# raw model\n",
    "class Net1(nn.Module):\n",
    "    # constructor\n",
    "    def __init__(self, H1, H2, D_out):\n",
    "        super(Net1, self).__init__()\n",
    "        self.net = nn.Sequential(\n",
    "            nn.LazyLinear(H1),\n",
    "            nn.ReLU(),\n",
    "            nn.LazyLinear(H2),\n",
    "            nn.ReLU(),\n",
    "            nn.LazyLinear(D_out))\n",
    "        \n",
    "    # prediction\n",
    "    def forward(self, x):\n",
    "        return self.net(x)"
   ]
  },
  {
   "cell_type": "code",
   "execution_count": 7,
   "id": "2e0ece7b-9151-4b86-a6b3-e8cb44f74b56",
   "metadata": {
    "tags": []
   },
   "outputs": [],
   "source": [
    "# create network(model)\n",
    "# with dropout model\n",
    "class Net2(nn.Module):\n",
    "    # constructor\n",
    "    def __init__(self, H1, H2, D_out):\n",
    "        super(Net2, self).__init__()\n",
    "        self.net = nn.Sequential(\n",
    "            nn.LazyLinear(H1),\n",
    "            nn.ReLU(),\n",
    "            nn.Dropout(p = 0.2),\n",
    "            nn.LazyLinear(H2),\n",
    "            nn.ReLU(),\n",
    "            nn.LazyLinear(D_out))\n",
    "        \n",
    "    # prediction\n",
    "    def forward(self, x):\n",
    "        return self.net(x)"
   ]
  },
  {
   "cell_type": "code",
   "execution_count": 5,
   "id": "4a61fa87-47d8-438a-9ab8-8bac5cfe1fa8",
   "metadata": {
    "tags": []
   },
   "outputs": [],
   "source": [
    "# create network(model)\n",
    "# deeper model\n",
    "class Net3(nn.Module):\n",
    "    # constructor\n",
    "    def __init__(self, H1, H2, H3, H4, H5, H6, D_out):\n",
    "        super(Net3, self).__init__()\n",
    "        self.net = nn.Sequential(\n",
    "            nn.LazyLinear(H1),\n",
    "            nn.ReLU(),\n",
    "            nn.LazyLinear(H2),\n",
    "            nn.ReLU(),\n",
    "            nn.LazyLinear(H3),\n",
    "            nn.ReLU(),\n",
    "#            nn.Dropout(p = 0.02),\n",
    "            nn.LazyLinear(H4),\n",
    "            nn.ReLU(),\n",
    "#            nn.Dropout(p = 0.2),\n",
    "            nn.LazyLinear(H5),\n",
    "            nn.ReLU(),\n",
    "            nn.LazyLinear(H6),\n",
    "            nn.ReLU(),\n",
    "            nn.LazyLinear(D_out))\n",
    "        \n",
    "    # prediction\n",
    "    def forward(self, x):\n",
    "        return self.net(x)"
   ]
  },
  {
   "cell_type": "code",
   "execution_count": 256,
   "id": "b325e1e5-578a-4ffd-9ebc-a7ee959dff12",
   "metadata": {
    "tags": []
   },
   "outputs": [],
   "source": [
    "# create network(model)\n",
    "# deeper model\n",
    "class Net4(nn.Module):\n",
    "    # constructor\n",
    "    def __init__(self, H1, H2, H3, H4, H5, H6, H7, H8, D_out):\n",
    "        super(Net4, self).__init__()\n",
    "        self.net = nn.Sequential(\n",
    "            nn.LazyLinear(H1),\n",
    "            nn.ReLU(),\n",
    "#            nn.BatchNorm1d(H1),\n",
    "            nn.LazyLinear(H2),\n",
    "            nn.ReLU(),\n",
    "#            nn.BatchNorm1d(H2),\n",
    "            nn.LazyLinear(H3),\n",
    "            nn.ReLU(),\n",
    "#            nn.BatchNorm1d(H3),\n",
    "#            nn.Dropout(p = 0.2),\n",
    "            nn.LazyLinear(H4),\n",
    "            nn.ReLU(),\n",
    "#            nn.BatchNorm1d(H4),\n",
    "#            nn.Dropout(p = 0.5),\n",
    "            nn.LazyLinear(H5),\n",
    "            nn.ReLU(),\n",
    "#            nn.BatchNorm1d(H5),\n",
    "#            nn.Dropout(p = 0.5),\n",
    "            nn.LazyLinear(H6),\n",
    "            nn.ReLU(),\n",
    "#            nn.BatchNorm1d(H6),\n",
    "#            nn.Dropout(p = 0.2),\n",
    "            nn.LazyLinear(H7),\n",
    "            nn.ReLU(),\n",
    "#            nn.BatchNorm1d(H7),\n",
    "            nn.LazyLinear(H8),\n",
    "            nn.ReLU(),\n",
    "#            nn.BatchNorm1d(H8),\n",
    "            nn.LazyLinear(D_out))\n",
    "        \n",
    "    # prediction\n",
    "    def forward(self, x):\n",
    "        return self.net(x)"
   ]
  },
  {
   "cell_type": "code",
   "execution_count": 257,
   "id": "8e4eeeeb-404e-4f93-a9fd-f461445d0479",
   "metadata": {
    "tags": []
   },
   "outputs": [],
   "source": [
    "# create network(model)\n",
    "# deeper model with batch normalization\n",
    "class Net5(nn.Module):\n",
    "    # constructor\n",
    "    def __init__(self, H1, H2, H3, H4, H5, H6, D_out):\n",
    "        super(Net5, self).__init__()\n",
    "        self.net = nn.Sequential(\n",
    "            nn.LazyLinear(H1),\n",
    "            nn.ReLU(),\n",
    "#            nn.BatchNorm1d(H1),\n",
    "            nn.LazyLinear(H2),\n",
    "            nn.ReLU(),\n",
    "#            nn.BatchNorm1d(H2),\n",
    "            nn.LazyLinear(H3),\n",
    "            nn.ReLU(),\n",
    "#            nn.Dropout(p = 0.2),\n",
    "#            nn.BatchNorm1d(H3),\n",
    "            nn.LazyLinear(H4),\n",
    "            nn.ReLU(),\n",
    "#            nn.Dropout(p = 0.2),\n",
    "#            nn.BatchNorm1d(H4),\n",
    "            nn.LazyLinear(H5),\n",
    "            nn.ReLU(),\n",
    "#            nn.BatchNorm1d(H5),\n",
    "            nn.LazyLinear(H6),\n",
    "            nn.ReLU(),\n",
    "#            nn.BatchNorm1d(H6),\n",
    "            nn.LazyLinear(D_out))\n",
    "        \n",
    "    # prediction\n",
    "    def forward(self, x):\n",
    "        return self.net(x)"
   ]
  },
  {
   "cell_type": "code",
   "execution_count": 8,
   "id": "bbb0cfba-f411-4a12-9e83-dc5a165c9d2b",
   "metadata": {
    "tags": []
   },
   "outputs": [],
   "source": [
    "# create loss function(criterion)\n",
    "mae = nn.L1Loss()\n",
    "mse = nn.MSELoss()"
   ]
  },
  {
   "cell_type": "code",
   "execution_count": 9,
   "id": "f427d06d-d23c-4e01-bea8-9a70a5885e23",
   "metadata": {
    "tags": []
   },
   "outputs": [],
   "source": [
    "# create data_loader to split into batches(train_loader and test_loader)\n",
    "train_loader = DataLoader(dataset=list(zip(X_train,y_train)), batch_size=40, shuffle=True)\n",
    "test_loader = DataLoader(dataset=list(zip(X_valid,y_valid)), batch_size=40, shuffle=False)\n",
    "\n",
    "# train_loader = DataLoader(dataset=list(zip(X,y)), batch_size=40, shuffle=True)"
   ]
  },
  {
   "cell_type": "code",
   "execution_count": 371,
   "id": "dd267642-2b3f-42fd-9834-2158eddaf2a6",
   "metadata": {
    "tags": []
   },
   "outputs": [],
   "source": [
    "# Train with validation loop\n",
    "def train(model, criterion, train_loader, test_loader, optimizer, epochs = 100):\n",
    "    metrics = {'training_loss':[], 'validation_loss':[]}\n",
    "    tbar = tqdm(range(epochs), position=0, leave=True)\n",
    "    for _ in tbar:\n",
    "        loss_train_total = 0\n",
    "        for x, y in train_loader:\n",
    "            optimizer.zero_grad()\n",
    "            z = model(x)\n",
    "            loss_train = criterion(z, y)\n",
    "            loss_train.backward()\n",
    "            optimizer.step()\n",
    "            loss_train_total += loss_train.item()\n",
    "        \n",
    "        metrics['training_loss'].append(loss_train_total/len(train_loader))\n",
    "        \n",
    "        loss_valid_total = 0\n",
    "        for x, y in test_loader:\n",
    "            z = model(x)\n",
    "            loss_valid = criterion(z, y)\n",
    "            loss_valid_total += loss_valid.item()\n",
    "            \n",
    "        metrics['validation_loss'].append(loss_valid_total/len(test_loader))\n",
    "        \n",
    "        tbar.set_description(f\"Train loss: {loss_train_total/len(train_loader)}, Validation loss: {loss_valid_total/len(test_loader)}\")\n",
    "            \n",
    "    return metrics\n",
    "\n",
    "# Train without validation loop\n",
    "\n",
    "def train_all(model, criterion, train_loader, optimizer, epochs = 100):\n",
    "    metrics = {'training_loss':[]}\n",
    "    tbar = tqdm(range(epochs), position=0, leave=True)\n",
    "    for _ in tbar:\n",
    "        loss_train_total = 0\n",
    "        for x, y in train_loader:\n",
    "            optimizer.zero_grad()\n",
    "            z = model(x)\n",
    "            loss_train = criterion(z, y)\n",
    "            loss_train.backward()\n",
    "            optimizer.step()\n",
    "            loss_train_total += loss_train.item()\n",
    "        \n",
    "        metrics['training_loss'].append(loss_train_total/len(train_loader))\n",
    "        tbar.set_description(f\"Train loss: {loss_train_total/len(train_loader)}\")\n",
    "            \n",
    "    return metrics"
   ]
  },
  {
   "cell_type": "code",
   "execution_count": 296,
   "id": "908f8866-6c45-4d44-b965-393b615366dd",
   "metadata": {
    "tags": []
   },
   "outputs": [],
   "source": [
    "# create optimizer(optimizer)\n",
    "\n",
    "# # best result for Net3: epochs = 250\n",
    "# learning_rate = 0.001\n",
    "# model = Net3(64, 128, 256, 256, 128, 64, 1)\n",
    "# optimizer = torch.optim.SGD(model.parameters(), lr = learning_rate, weight_decay = 0.01)\n",
    "\n",
    "# # best result for Net3: epochs = 2000, not scale data\n",
    "# learning_rate = 0.0001\n",
    "# model = Net3(64, 128, 256, 256, 128, 64, 1)\n",
    "# optimizer = torch.optim.SGD(model.parameters(), lr = learning_rate, weight_decay = 0.01)\n",
    "\n",
    "# best result for Net3: epochs = 2000, not scale data\n",
    "learning_rate = 0.0001\n",
    "model = Net3(64, 128, 256, 256, 128, 64, 1)\n",
    "optimizer = torch.optim.SGD(model.parameters(), lr = learning_rate, weight_decay = 0.01)"
   ]
  },
  {
   "cell_type": "code",
   "execution_count": 263,
   "id": "2cb1b339-a4f5-4b9b-a7f2-96df67e8ecb2",
   "metadata": {
    "tags": []
   },
   "outputs": [
    {
     "name": "stderr",
     "output_type": "stream",
     "text": [
      "Train loss: 0.16461123491171747, Validation loss: 0.30694091096520426: 100%|████████████████| 2500/2500 [23:01<00:00,  1.81it/s]\n"
     ]
    }
   ],
   "source": [
    "model_results = train(model, mse, train_loader, test_loader, optimizer, epochs = 2200)"
   ]
  },
  {
   "cell_type": "code",
   "execution_count": 297,
   "id": "56d46a29-1336-4849-9bee-eb184fb3316f",
   "metadata": {
    "tags": []
   },
   "outputs": [
    {
     "name": "stderr",
     "output_type": "stream",
     "text": [
      "Train loss: 0.19746827345341444: 100%|██████████████████████████████████████████████████████| 2200/2200 [11:57<00:00,  3.07it/s]\n"
     ]
    }
   ],
   "source": [
    "# training with all data\n",
    "model_results = train_all(model, mse, train_loader, optimizer, epochs = 2200)"
   ]
  },
  {
   "cell_type": "code",
   "execution_count": 264,
   "id": "118997e6-2d44-47c7-9ef0-26266ffffb38",
   "metadata": {
    "tags": []
   },
   "outputs": [
    {
     "name": "stdout",
     "output_type": "stream",
     "text": [
      "minimum validation loss: 0.3061361417174339\n",
      "corresponding epoch: 2357\n",
      "last epoch: 0.30694091096520426\n"
     ]
    }
   ],
   "source": [
    "# find the minimum validation loss\n",
    "min_loss = min(model_results['validation_loss'])\n",
    "print(f'minimum validation loss: {min_loss}')\n",
    "\n",
    "# find the epoch of minimum validation loss\n",
    "epoch_min = model_results['validation_loss'].index(min(model_results['validation_loss']))\n",
    "print(f'corresponding epoch: {epoch_min}')\n",
    "\n",
    "# last epoch validation loss\n",
    "epoch_last = model_results['validation_loss'][-1]\n",
    "print(f'last epoch: {epoch_last}')"
   ]
  },
  {
   "cell_type": "code",
   "execution_count": 265,
   "id": "683bff3f-8a30-430e-97fa-3db0c88fb6ff",
   "metadata": {
    "tags": []
   },
   "outputs": [
    {
     "data": {
      "image/png": "[encoded data removed]",
      "text/plain": [
       "<Figure size 640x480 with 1 Axes>"
      ]
     },
     "metadata": {},
     "output_type": "display_data"
    }
   ],
   "source": [
    "plt.plot(model_results['training_loss'], label = 'train_loss')\n",
    "plt.plot(model_results['validation_loss'], label = 'valid_loss')\n",
    "plt.ylabel('loss')\n",
    "plt.xlabel('epoch')\n",
    "plt.legend()\n",
    "_ = plt.show()"
   ]
  },
  {
   "cell_type": "code",
   "execution_count": 299,
   "id": "0d04be4c-a1a7-4e90-b5f4-12f7bbae632c",
   "metadata": {
    "tags": []
   },
   "outputs": [],
   "source": [
    "# predict on test data\n",
    "X_new = test.drop(columns = [\"SEQN\"]).values\n",
    "\n",
    "# scaler = StandardScaler()\n",
    "# scaler.fit(X_new)\n",
    "# X_new = scaler.transform(X_new)\n",
    "\n",
    "X_train = torch.tensor(X_new, dtype=torch.float32)\n",
    "\n",
    "predict = model(X_train)\n",
    "\n",
    "submission = pd.DataFrame({'SEQN':test.SEQN,\n",
    "                           'y':predict.view(-1).detach().numpy()})\n",
    "submission.to_csv('submission.csv', index=False)"
   ]
  },
  {
   "cell_type": "code",
   "execution_count": 2,
   "id": "4ae88715-46f2-433d-8fe8-32f8ebf6b9ab",
   "metadata": {
    "tags": []
   },
   "outputs": [],
   "source": [
    "# Train with validation loop\n",
    "def train(model, criterion, train_loader, test_loader, optimizer, epochs):\n",
    "    metrics = {'training_loss':[], 'validation_loss':[]}\n",
    "    tbar = tqdm(range(epochs), position=0, leave=True)\n",
    "    for _ in tbar:\n",
    "        loss_train_total = 0\n",
    "        for x, y in train_loader:\n",
    "            optimizer.zero_grad()\n",
    "            z = model(x)\n",
    "            loss_train = criterion(z, y)\n",
    "            loss_train.backward()\n",
    "            optimizer.step()\n",
    "            loss_train_total += loss_train.item()\n",
    "        \n",
    "        metrics['training_loss'].append(loss_train_total/len(train_loader))\n",
    "        \n",
    "        loss_valid_total = 0\n",
    "        for x, y in test_loader:\n",
    "            z = model(x)\n",
    "            loss_valid = criterion(z, y)\n",
    "            loss_valid_total += loss_valid.item()\n",
    "            \n",
    "        metrics['validation_loss'].append(loss_valid_total/len(test_loader))\n",
    "        \n",
    "        tbar.set_description(f\"Train loss: {loss_train_total/len(train_loader)}, Validation loss: {loss_valid_total/len(test_loader)}\")\n",
    "            \n",
    "    return metrics, model\n",
    "\n",
    "# cross validation\n",
    "def train_cv(X, y, criterion, cv, epochs = 1000, learning_rate = 0.0001):\n",
    "    \n",
    "    model_results = []\n",
    "    model_sets = []\n",
    "    \n",
    "    for i, (cv_train, cv_test) in enumerate(cv.split(X)):\n",
    "        \n",
    "        X_train = X[cv_train]\n",
    "        y_train = y[cv_train]\n",
    "        X_valid = X[cv_test]\n",
    "        y_valid = y[cv_test]\n",
    "        \n",
    "        X_train = torch.tensor(X_train, dtype=torch.float32)\n",
    "        y_train = torch.tensor(y_train, dtype=torch.float32).reshape(-1,1)\n",
    "        X_valid = torch.tensor(X_valid, dtype=torch.float32)\n",
    "        y_valid = torch.tensor(y_valid, dtype=torch.float32).reshape(-1,1)\n",
    "        \n",
    "        train_loader = DataLoader(dataset=list(zip(X_train,y_train)), batch_size=40, shuffle=True)\n",
    "        test_loader = DataLoader(dataset=list(zip(X_valid,y_valid)), batch_size=40, shuffle=False)\n",
    "        \n",
    "        model = Net3(64, 128, 256, 256, 128, 64, 1)\n",
    "        optimizer = torch.optim.SGD(model.parameters(), lr = learning_rate, weight_decay = 0.01)\n",
    "        \n",
    "        train_results = train(model, criterion, train_loader, test_loader, optimizer, epochs)\n",
    "        \n",
    "        model_results.append(train_results[0])\n",
    "        model_sets.append(train_results[1])\n",
    "        \n",
    "    return model_results, model_sets\n",
    "\n",
    "\n",
    "# parallel\n",
    "def wrapper(args):\n",
    "        return train(*args)\n",
    "\n",
    "def train_cv_parallel(X, y, criterion, cv, epochs = 1000, learning_rate = 0.0001):\n",
    "    \n",
    "    pool = Pool()\n",
    "    train_args = []\n",
    "    model_results = []\n",
    "    model_sets = []\n",
    "    \n",
    "    for i, (cv_train, cv_test) in enumerate(cv.split(X)):\n",
    "        \n",
    "        X_train = X[cv_train]\n",
    "        y_train = y[cv_train]\n",
    "        X_valid = X[cv_test]\n",
    "        y_valid = y[cv_test]\n",
    "        \n",
    "        X_train = torch.tensor(X_train, dtype=torch.float32)\n",
    "        y_train = torch.tensor(y_train, dtype=torch.float32).reshape(-1,1)\n",
    "        X_valid = torch.tensor(X_valid, dtype=torch.float32)\n",
    "        y_valid = torch.tensor(y_valid, dtype=torch.float32).reshape(-1,1)\n",
    "        \n",
    "        train_loader = DataLoader(dataset=list(zip(X_train,y_train)), batch_size=40, shuffle=True)\n",
    "        test_loader = DataLoader(dataset=list(zip(X_valid,y_valid)), batch_size=40, shuffle=False)\n",
    "        \n",
    "        model = Net3(64, 128, 256, 256, 128, 64, 1)\n",
    "        optimizer = torch.optim.SGD(model.parameters(), lr = learning_rate, weight_decay = 0.01)\n",
    "        \n",
    "        train_args.append([model, criterion, train_loader, test_loader, optimizer, epochs])\n",
    "        \n",
    "    results = pool.map(wrapper, train_args)\n",
    "    model_results = list(map(lambda x: x[0], results))\n",
    "    model_sets = list(map(lambda x: x[1], results))\n",
    "        \n",
    "    return model_results, model_sets"
   ]
  },
  {
   "cell_type": "code",
   "execution_count": 6,
   "id": "60fe4391-31a5-4939-99c5-72fdb09ad730",
   "metadata": {
    "tags": []
   },
   "outputs": [],
   "source": [
    "# load the data\n",
    "train_data = pd.read_csv(\"train.csv\")\n",
    "test_data = pd.read_csv(\"test.csv\")\n",
    "\n",
    "# data preprocessing(one-hot encoding)\n",
    "train_data = pd.get_dummies(train_data, columns = ['district'])\n",
    "test_data = pd.get_dummies(test_data, columns = ['district'])\n",
    "\n",
    "X = train_data.drop(columns = [\"y\",\"SEQN\"]).values\n",
    "y = train_data.y.values\n",
    "\n",
    "mse = nn.MSELoss()\n",
    "cv = KFold(n_splits=24, shuffle=True)"
   ]
  },
  {
   "cell_type": "code",
   "execution_count": 7,
   "id": "34ba0aeb-ff6b-4659-ae85-a245946595c8",
   "metadata": {
    "tags": []
   },
   "outputs": [
    {
     "name": "stderr",
     "output_type": "stream",
     "text": [
      "/opt/conda/lib/python3.11/site-packages/torch/nn/modules/lazy.py:180: UserWarning: Lazy modules are a new feature under heavy development so changes to the API or functionality can happen at any moment.\n",
      "  warnings.warn('Lazy modules are a new feature under heavy development '\n",
      "Train loss: 0.2564998019952327, Validation loss: 0.295706194308069:  56%|██████████▋        | 1242/2200 [14:34<11:14,  1.42it/s]Process ForkPoolWorker-12:\n",
      "\n",
      "Train loss: 0.25843696816203493, Validation loss: 0.2985517746872372:  56%|█████████▍       | 1225/2200 [14:34<11:36,  1.40it/s]\n",
      "Train loss: 0.26055973725548637, Validation loss: 0.3079444169998169:  56%|█████████▍       | 1226/2200 [14:34<11:34,  1.40it/s]\n",
      "\n",
      "Train loss: 0.2577921023281912, Validation loss: 0.3388391037782033:  56%|██████████▏       | 1238/2200 [14:34<11:19,  1.42it/s]Process ForkPoolWorker-10:\n",
      "Train loss: 0.25734220375306904, Validation loss: 0.2858961174885432:  56%|█████████▌       | 1239/2200 [14:34<11:18,  1.42it/s]Process ForkPoolWorker-15:\n",
      "\n",
      "\n",
      "\n",
      "Process ForkPoolWorker-14:\n",
      "Process ForkPoolWorker-13:\n",
      "Process ForkPoolWorker-9:\n",
      "\n",
      "Traceback (most recent call last):\n",
      "Process ForkPoolWorker-16:\n",
      "Process ForkPoolWorker-11:\n",
      "Traceback (most recent call last):\n",
      "Traceback (most recent call last):\n",
      "Traceback (most recent call last):\n",
      "Traceback (most recent call last):\n",
      "Traceback (most recent call last):\n",
      "  File \"/opt/conda/lib/python3.11/multiprocessing/process.py\", line 314, in _bootstrap\n",
      "    self.run()\n",
      "Traceback (most recent call last):\n",
      "  File \"/opt/conda/lib/python3.11/multiprocessing/process.py\", line 108, in run\n",
      "    self._target(*self._args, **self._kwargs)\n",
      "  File \"/opt/conda/lib/python3.11/multiprocessing/process.py\", line 314, in _bootstrap\n",
      "    self.run()\n",
      "  File \"/opt/conda/lib/python3.11/multiprocessing/process.py\", line 314, in _bootstrap\n",
      "    self.run()\n",
      "  File \"/opt/conda/lib/python3.11/multiprocessing/process.py\", line 108, in run\n",
      "    self._target(*self._args, **self._kwargs)\n",
      "  File \"/opt/conda/lib/python3.11/multiprocessing/process.py\", line 314, in _bootstrap\n",
      "    self.run()\n",
      "  File \"/opt/conda/lib/python3.11/multiprocessing/process.py\", line 314, in _bootstrap\n",
      "    self.run()\n",
      "  File \"/opt/conda/lib/python3.11/multiprocessing/process.py\", line 314, in _bootstrap\n",
      "    self.run()\n",
      "  File \"/opt/conda/lib/python3.11/multiprocessing/process.py\", line 108, in run\n",
      "    self._target(*self._args, **self._kwargs)\n",
      "Traceback (most recent call last):\n",
      "  File \"/opt/conda/lib/python3.11/multiprocessing/process.py\", line 314, in _bootstrap\n",
      "    self.run()\n",
      "  File \"/opt/conda/lib/python3.11/multiprocessing/pool.py\", line 125, in worker\n",
      "    result = (True, func(*args, **kwds))\n",
      "                    ^^^^^^^^^^^^^^^^^^^\n",
      "  File \"/opt/conda/lib/python3.11/multiprocessing/process.py\", line 314, in _bootstrap\n",
      "    self.run()\n",
      "  File \"/opt/conda/lib/python3.11/multiprocessing/pool.py\", line 48, in mapstar\n",
      "    return list(map(*args))\n",
      "           ^^^^^^^^^^^^^^^^\n",
      "  File \"/opt/conda/lib/python3.11/multiprocessing/pool.py\", line 125, in worker\n",
      "    result = (True, func(*args, **kwds))\n",
      "                    ^^^^^^^^^^^^^^^^^^^\n",
      "  File \"/opt/conda/lib/python3.11/multiprocessing/process.py\", line 108, in run\n",
      "    self._target(*self._args, **self._kwargs)\n",
      "  File \"/opt/conda/lib/python3.11/multiprocessing/process.py\", line 108, in run\n",
      "    self._target(*self._args, **self._kwargs)\n",
      "  File \"/opt/conda/lib/python3.11/multiprocessing/process.py\", line 108, in run\n",
      "    self._target(*self._args, **self._kwargs)\n",
      "  File \"/opt/conda/lib/python3.11/multiprocessing/pool.py\", line 125, in worker\n",
      "    result = (True, func(*args, **kwds))\n",
      "                    ^^^^^^^^^^^^^^^^^^^\n",
      "  File \"/tmp/ipykernel_16516/1389282335.py\", line 63, in wrapper\n",
      "    return train(*args)\n",
      "           ^^^^^^^^^^^^\n",
      "  File \"/opt/conda/lib/python3.11/multiprocessing/pool.py\", line 125, in worker\n",
      "    result = (True, func(*args, **kwds))\n",
      "                    ^^^^^^^^^^^^^^^^^^^\n",
      "  File \"/opt/conda/lib/python3.11/multiprocessing/process.py\", line 108, in run\n",
      "    self._target(*self._args, **self._kwargs)\n",
      "  File \"/tmp/ipykernel_16516/2740841832.py\", line 26, in forward\n",
      "    return self.net(x)\n",
      "           ^^^^^^^^^^^\n",
      "  File \"/tmp/ipykernel_16516/1389282335.py\", line 63, in wrapper\n",
      "    return train(*args)\n",
      "           ^^^^^^^^^^^^\n",
      "  File \"/tmp/ipykernel_16516/1389282335.py\", line 10, in train\n",
      "    loss_train = criterion(z, y)\n",
      "                 ^^^^^^^^^^^^^^^\n",
      "  File \"/tmp/ipykernel_16516/1389282335.py\", line 12, in train\n",
      "    optimizer.step()\n",
      "  File \"/opt/conda/lib/python3.11/multiprocessing/process.py\", line 108, in run\n",
      "    self._target(*self._args, **self._kwargs)\n",
      "  File \"/opt/conda/lib/python3.11/multiprocessing/pool.py\", line 125, in worker\n",
      "    result = (True, func(*args, **kwds))\n",
      "                    ^^^^^^^^^^^^^^^^^^^\n",
      "  File \"/opt/conda/lib/python3.11/multiprocessing/pool.py\", line 48, in mapstar\n",
      "    return list(map(*args))\n",
      "           ^^^^^^^^^^^^^^^^\n",
      "  File \"/tmp/ipykernel_16516/1389282335.py\", line 9, in train\n",
      "    z = model(x)\n",
      "        ^^^^^^^^\n",
      "  File \"/opt/conda/lib/python3.11/multiprocessing/pool.py\", line 125, in worker\n",
      "    result = (True, func(*args, **kwds))\n",
      "                    ^^^^^^^^^^^^^^^^^^^\n",
      "  File \"/opt/conda/lib/python3.11/multiprocessing/pool.py\", line 48, in mapstar\n",
      "    return list(map(*args))\n",
      "           ^^^^^^^^^^^^^^^^\n",
      "  File \"/opt/conda/lib/python3.11/multiprocessing/pool.py\", line 48, in mapstar\n",
      "    return list(map(*args))\n",
      "           ^^^^^^^^^^^^^^^^\n",
      "  File \"/tmp/ipykernel_16516/1389282335.py\", line 63, in wrapper\n",
      "    return train(*args)\n",
      "           ^^^^^^^^^^^^\n",
      "  File \"/opt/conda/lib/python3.11/site-packages/torch/nn/modules/module.py\", line 1501, in _call_impl\n",
      "    return forward_call(*args, **kwargs)\n",
      "           ^^^^^^^^^^^^^^^^^^^^^^^^^^^^^\n",
      "  File \"/opt/conda/lib/python3.11/multiprocessing/pool.py\", line 48, in mapstar\n",
      "    return list(map(*args))\n",
      "           ^^^^^^^^^^^^^^^^\n",
      "  File \"/opt/conda/lib/python3.11/multiprocessing/pool.py\", line 48, in mapstar\n",
      "    return list(map(*args))\n",
      "           ^^^^^^^^^^^^^^^^\n",
      "  File \"/tmp/ipykernel_16516/1389282335.py\", line 11, in train\n",
      "    loss_train.backward()\n",
      "  File \"/tmp/ipykernel_16516/1389282335.py\", line 63, in wrapper\n",
      "    return train(*args)\n",
      "           ^^^^^^^^^^^^\n",
      "  File \"/tmp/ipykernel_16516/1389282335.py\", line 63, in wrapper\n",
      "    return train(*args)\n",
      "           ^^^^^^^^^^^^\n",
      "  File \"/tmp/ipykernel_16516/1389282335.py\", line 8, in train\n",
      "    optimizer.zero_grad()\n",
      "  File \"/opt/conda/lib/python3.11/multiprocessing/pool.py\", line 125, in worker\n",
      "    result = (True, func(*args, **kwds))\n",
      "                    ^^^^^^^^^^^^^^^^^^^\n",
      "  File \"/opt/conda/lib/python3.11/site-packages/torch/_tensor.py\", line 487, in backward\n",
      "    torch.autograd.backward(\n",
      "  File \"/tmp/ipykernel_16516/1389282335.py\", line 11, in train\n",
      "    loss_train.backward()\n",
      "  File \"/opt/conda/lib/python3.11/multiprocessing/pool.py\", line 48, in mapstar\n",
      "    return list(map(*args))\n",
      "           ^^^^^^^^^^^^^^^^\n",
      "  File \"/tmp/ipykernel_16516/1389282335.py\", line 63, in wrapper\n",
      "    return train(*args)\n",
      "           ^^^^^^^^^^^^\n",
      "  File \"/opt/conda/lib/python3.11/site-packages/torch/autograd/__init__.py\", line 200, in backward\n",
      "    Variable._execution_engine.run_backward(  # Calls into the C++ engine to run the backward pass\n",
      "  File \"/tmp/ipykernel_16516/1389282335.py\", line 63, in wrapper\n",
      "    return train(*args)\n",
      "           ^^^^^^^^^^^^\n",
      "  File \"/tmp/ipykernel_16516/1389282335.py\", line 11, in train\n",
      "    loss_train.backward()\n",
      "  File \"/opt/conda/lib/python3.11/site-packages/torch/_tensor.py\", line 487, in backward\n",
      "    torch.autograd.backward(\n",
      "  File \"/opt/conda/lib/python3.11/multiprocessing/pool.py\", line 125, in worker\n",
      "    result = (True, func(*args, **kwds))\n",
      "                    ^^^^^^^^^^^^^^^^^^^\n",
      "KeyboardInterrupt\n",
      "  File \"/opt/conda/lib/python3.11/site-packages/torch/autograd/__init__.py\", line 200, in backward\n",
      "    Variable._execution_engine.run_backward(  # Calls into the C++ engine to run the backward pass\n",
      "  File \"/opt/conda/lib/python3.11/site-packages/torch/_tensor.py\", line 487, in backward\n",
      "    torch.autograd.backward(\n",
      "  File \"/opt/conda/lib/python3.11/site-packages/torch/nn/modules/module.py\", line 1501, in _call_impl\n",
      "    return forward_call(*args, **kwargs)\n",
      "           ^^^^^^^^^^^^^^^^^^^^^^^^^^^^^\n",
      "  File \"/opt/conda/lib/python3.11/site-packages/torch/optim/optimizer.py\", line 456, in zero_grad\n",
      "    with torch.autograd.profiler.record_function(self._zero_grad_profile_name):\n",
      "  File \"/opt/conda/lib/python3.11/site-packages/torch/nn/modules/module.py\", line 1501, in _call_impl\n",
      "    return forward_call(*args, **kwargs)\n",
      "           ^^^^^^^^^^^^^^^^^^^^^^^^^^^^^\n",
      "  File \"/opt/conda/lib/python3.11/site-packages/torch/autograd/profiler.py\", line 492, in __enter__\n",
      "    self.record = torch.ops.profiler._record_function_enter_new(self.name, self.args)\n",
      "                  ^^^^^^^^^^^^^^^^^^^^^^^^^^^^^^^^^^^^^^^^^^^^^^^^^^^^^^^^^^^^^^^^^^^\n",
      "  File \"/opt/conda/lib/python3.11/site-packages/torch/nn/modules/loss.py\", line 536, in forward\n",
      "    return F.mse_loss(input, target, reduction=self.reduction)\n",
      "           ^^^^^^^^^^^^^^^^^^^^^^^^^^^^^^^^^^^^^^^^^^^^^^^^^^^\n",
      "  File \"/opt/conda/lib/python3.11/site-packages/torch/nn/functional.py\", line 3295, in mse_loss\n",
      "    return torch._C._nn.mse_loss(expanded_input, expanded_target, _Reduction.get_enum(reduction))\n",
      "           ^^^^^^^^^^^^^^^^^^^^^^^^^^^^^^^^^^^^^^^^^^^^^^^^^^^^^^^^^^^^^^^^^^^^^^^^^^^^^^^^^^^^^^\n",
      "  File \"/opt/conda/lib/python3.11/site-packages/torch/nn/modules/container.py\", line 217, in forward\n",
      "    input = module(input)\n",
      "            ^^^^^^^^^^^^^\n",
      "KeyboardInterrupt\n",
      "  File \"/opt/conda/lib/python3.11/site-packages/torch/autograd/__init__.py\", line 200, in backward\n",
      "    Variable._execution_engine.run_backward(  # Calls into the C++ engine to run the backward pass\n",
      "  File \"/opt/conda/lib/python3.11/site-packages/torch/nn/modules/module.py\", line 1501, in _call_impl\n",
      "    return forward_call(*args, **kwargs)\n",
      "           ^^^^^^^^^^^^^^^^^^^^^^^^^^^^^\n",
      "  File \"/opt/conda/lib/python3.11/site-packages/torch/optim/optimizer.py\", line 269, in wrapper\n",
      "    with torch.autograd.profiler.record_function(profile_name):\n",
      "         ^^^^^^^^^^^^^^^^^^^^^^^^^^^^^^^^^^^^^^^^^^^^^^^^^^^^^\n",
      "KeyboardInterrupt\n",
      "  File \"/opt/conda/lib/python3.11/site-packages/torch/autograd/profiler.py\", line 489, in __init__\n",
      "    self.record = torch.jit.annotate(Optional[\"torch.classes.profiler._RecordFunction\"], None)\n",
      "                  ^^^^^^^^^^^^^^^^^^^^^^^^^^^^^^^^^^^^^^^^^^^^^^^^^^^^^^^^^^^^^^^^^^^^^^^^^^^^\n",
      "  File \"/opt/conda/lib/python3.11/site-packages/torch/nn/modules/linear.py\", line 114, in forward\n",
      "    return F.linear(input, self.weight, self.bias)\n",
      "           ^^^^^^^^^^^^^^^^^^^^^^^^^^^^^^^^^^^^^^^\n",
      "  File \"/opt/conda/lib/python3.11/multiprocessing/pool.py\", line 48, in mapstar\n",
      "    return list(map(*args))\n",
      "           ^^^^^^^^^^^^^^^^\n",
      "KeyboardInterrupt\n",
      "  File \"/opt/conda/lib/python3.11/site-packages/torch/_ops.py\", line 502, in __call__\n",
      "    return self._op(*args, **kwargs or {})\n",
      "           ^^^^^^^^^^^^^^^^^^^^^^^^^^^^^^^\n",
      "KeyboardInterrupt\n",
      "KeyboardInterrupt\n",
      "  File \"/tmp/ipykernel_16516/1389282335.py\", line 63, in wrapper\n",
      "    return train(*args)\n",
      "           ^^^^^^^^^^^^\n",
      "  File \"/opt/conda/lib/python3.11/site-packages/torch/jit/__init__.py\", line 89, in annotate\n",
      "    def annotate(the_type, the_value):\n",
      "    \n",
      "  File \"/tmp/ipykernel_16516/1389282335.py\", line 11, in train\n",
      "    loss_train.backward()\n",
      "  File \"/opt/conda/lib/python3.11/site-packages/torch/_tensor.py\", line 487, in backward\n",
      "    torch.autograd.backward(\n",
      "  File \"/opt/conda/lib/python3.11/site-packages/torch/autograd/__init__.py\", line 200, in backward\n",
      "    Variable._execution_engine.run_backward(  # Calls into the C++ engine to run the backward pass\n",
      "KeyboardInterrupt\n",
      "KeyboardInterrupt\n"
     ]
    },
    {
     "ename": "KeyboardInterrupt",
     "evalue": "",
     "output_type": "error",
     "traceback": [
      "\u001b[0;31m---------------------------------------------------------------------------\u001b[0m",
      "\u001b[0;31mKeyboardInterrupt\u001b[0m                         Traceback (most recent call last)",
      "Cell \u001b[0;32mIn[7], line 1\u001b[0m\n\u001b[0;32m----> 1\u001b[0m model_results, model_sets \u001b[38;5;241m=\u001b[39m train_cv_parallel(X, y, mse, cv, epochs \u001b[38;5;241m=\u001b[39m \u001b[38;5;241m2200\u001b[39m, learning_rate \u001b[38;5;241m=\u001b[39m \u001b[38;5;241m0.0001\u001b[39m)\n",
      "Cell \u001b[0;32mIn[2], line 92\u001b[0m, in \u001b[0;36mtrain_cv_parallel\u001b[0;34m(X, y, criterion, cv, epochs, learning_rate)\u001b[0m\n\u001b[1;32m     88\u001b[0m     optimizer \u001b[38;5;241m=\u001b[39m torch\u001b[38;5;241m.\u001b[39moptim\u001b[38;5;241m.\u001b[39mSGD(model\u001b[38;5;241m.\u001b[39mparameters(), lr \u001b[38;5;241m=\u001b[39m learning_rate, weight_decay \u001b[38;5;241m=\u001b[39m \u001b[38;5;241m0.01\u001b[39m)\n\u001b[1;32m     90\u001b[0m     train_args\u001b[38;5;241m.\u001b[39mappend([model, criterion, train_loader, test_loader, optimizer, epochs])\n\u001b[0;32m---> 92\u001b[0m results \u001b[38;5;241m=\u001b[39m pool\u001b[38;5;241m.\u001b[39mmap(wrapper, train_args)\n\u001b[1;32m     93\u001b[0m model_results \u001b[38;5;241m=\u001b[39m \u001b[38;5;28mlist\u001b[39m(\u001b[38;5;28mmap\u001b[39m(\u001b[38;5;28;01mlambda\u001b[39;00m x: x[\u001b[38;5;241m0\u001b[39m], results))\n\u001b[1;32m     94\u001b[0m model_sets \u001b[38;5;241m=\u001b[39m \u001b[38;5;28mlist\u001b[39m(\u001b[38;5;28mmap\u001b[39m(\u001b[38;5;28;01mlambda\u001b[39;00m x: x[\u001b[38;5;241m1\u001b[39m], results))\n",
      "File \u001b[0;32m/opt/conda/lib/python3.11/multiprocessing/pool.py:367\u001b[0m, in \u001b[0;36mPool.map\u001b[0;34m(self, func, iterable, chunksize)\u001b[0m\n\u001b[1;32m    362\u001b[0m \u001b[38;5;28;01mdef\u001b[39;00m \u001b[38;5;21mmap\u001b[39m(\u001b[38;5;28mself\u001b[39m, func, iterable, chunksize\u001b[38;5;241m=\u001b[39m\u001b[38;5;28;01mNone\u001b[39;00m):\n\u001b[1;32m    363\u001b[0m \u001b[38;5;250m    \u001b[39m\u001b[38;5;124;03m'''\u001b[39;00m\n\u001b[1;32m    364\u001b[0m \u001b[38;5;124;03m    Apply `func` to each element in `iterable`, collecting the results\u001b[39;00m\n\u001b[1;32m    365\u001b[0m \u001b[38;5;124;03m    in a list that is returned.\u001b[39;00m\n\u001b[1;32m    366\u001b[0m \u001b[38;5;124;03m    '''\u001b[39;00m\n\u001b[0;32m--> 367\u001b[0m     \u001b[38;5;28;01mreturn\u001b[39;00m \u001b[38;5;28mself\u001b[39m\u001b[38;5;241m.\u001b[39m_map_async(func, iterable, mapstar, chunksize)\u001b[38;5;241m.\u001b[39mget()\n",
      "File \u001b[0;32m/opt/conda/lib/python3.11/multiprocessing/pool.py:768\u001b[0m, in \u001b[0;36mApplyResult.get\u001b[0;34m(self, timeout)\u001b[0m\n\u001b[1;32m    767\u001b[0m \u001b[38;5;28;01mdef\u001b[39;00m \u001b[38;5;21mget\u001b[39m(\u001b[38;5;28mself\u001b[39m, timeout\u001b[38;5;241m=\u001b[39m\u001b[38;5;28;01mNone\u001b[39;00m):\n\u001b[0;32m--> 768\u001b[0m     \u001b[38;5;28mself\u001b[39m\u001b[38;5;241m.\u001b[39mwait(timeout)\n\u001b[1;32m    769\u001b[0m     \u001b[38;5;28;01mif\u001b[39;00m \u001b[38;5;129;01mnot\u001b[39;00m \u001b[38;5;28mself\u001b[39m\u001b[38;5;241m.\u001b[39mready():\n\u001b[1;32m    770\u001b[0m         \u001b[38;5;28;01mraise\u001b[39;00m \u001b[38;5;167;01mTimeoutError\u001b[39;00m\n",
      "File \u001b[0;32m/opt/conda/lib/python3.11/multiprocessing/pool.py:765\u001b[0m, in \u001b[0;36mApplyResult.wait\u001b[0;34m(self, timeout)\u001b[0m\n\u001b[1;32m    764\u001b[0m \u001b[38;5;28;01mdef\u001b[39;00m \u001b[38;5;21mwait\u001b[39m(\u001b[38;5;28mself\u001b[39m, timeout\u001b[38;5;241m=\u001b[39m\u001b[38;5;28;01mNone\u001b[39;00m):\n\u001b[0;32m--> 765\u001b[0m     \u001b[38;5;28mself\u001b[39m\u001b[38;5;241m.\u001b[39m_event\u001b[38;5;241m.\u001b[39mwait(timeout)\n",
      "File \u001b[0;32m/opt/conda/lib/python3.11/threading.py:622\u001b[0m, in \u001b[0;36mEvent.wait\u001b[0;34m(self, timeout)\u001b[0m\n\u001b[1;32m    620\u001b[0m signaled \u001b[38;5;241m=\u001b[39m \u001b[38;5;28mself\u001b[39m\u001b[38;5;241m.\u001b[39m_flag\n\u001b[1;32m    621\u001b[0m \u001b[38;5;28;01mif\u001b[39;00m \u001b[38;5;129;01mnot\u001b[39;00m signaled:\n\u001b[0;32m--> 622\u001b[0m     signaled \u001b[38;5;241m=\u001b[39m \u001b[38;5;28mself\u001b[39m\u001b[38;5;241m.\u001b[39m_cond\u001b[38;5;241m.\u001b[39mwait(timeout)\n\u001b[1;32m    623\u001b[0m \u001b[38;5;28;01mreturn\u001b[39;00m signaled\n",
      "File \u001b[0;32m/opt/conda/lib/python3.11/threading.py:320\u001b[0m, in \u001b[0;36mCondition.wait\u001b[0;34m(self, timeout)\u001b[0m\n\u001b[1;32m    318\u001b[0m \u001b[38;5;28;01mtry\u001b[39;00m:    \u001b[38;5;66;03m# restore state no matter what (e.g., KeyboardInterrupt)\u001b[39;00m\n\u001b[1;32m    319\u001b[0m     \u001b[38;5;28;01mif\u001b[39;00m timeout \u001b[38;5;129;01mis\u001b[39;00m \u001b[38;5;28;01mNone\u001b[39;00m:\n\u001b[0;32m--> 320\u001b[0m         waiter\u001b[38;5;241m.\u001b[39macquire()\n\u001b[1;32m    321\u001b[0m         gotit \u001b[38;5;241m=\u001b[39m \u001b[38;5;28;01mTrue\u001b[39;00m\n\u001b[1;32m    322\u001b[0m     \u001b[38;5;28;01melse\u001b[39;00m:\n",
      "\u001b[0;31mKeyboardInterrupt\u001b[0m: "
     ]
    }
   ],
   "source": [
    "model_results, model_sets = train_cv_parallel(X, y, mse, cv, epochs = 2200, learning_rate = 0.0001)"
   ]
  },
  {
   "cell_type": "code",
   "execution_count": 55,
   "id": "faba0c38-1505-4a99-9670-7f1b0b51c918",
   "metadata": {
    "tags": []
   },
   "outputs": [
    {
     "name": "stdout",
     "output_type": "stream",
     "text": [
      "Cross Validation average loss: 0.3216733979433775\n"
     ]
    }
   ],
   "source": [
    "cv_loss = sum(list(map(lambda x: x['validation_loss'][-1], model_results)))/len(model_results)\n",
    "print(f'Cross Validation average loss: {cv_loss}')"
   ]
  },
  {
   "cell_type": "code",
   "execution_count": 56,
   "id": "05f7bc0d-9cce-4ce4-8692-42f386d4100d",
   "metadata": {
    "tags": []
   },
   "outputs": [],
   "source": [
    "from functools import reduce\n",
    "# predict on test data\n",
    "X_new = test_data.drop(columns = [\"SEQN\"]).values\n",
    "\n",
    "# scaler = StandardScaler()\n",
    "# scaler.fit(X_new)\n",
    "# X_new = scaler.transform(X_new)\n",
    "\n",
    "X_train = torch.tensor(X_new, dtype=torch.float32)\n",
    "\n",
    "predict = []\n",
    "\n",
    "for i in range(len(model_sets)):\n",
    "    predict.append(model_sets[i](X_train).view(1,-1))\n",
    "    \n",
    "predict = reduce(lambda a,b: torch.cat((a,b),axis=0), predict)\n",
    "\n",
    "predict_avg = torch.mean(predict, 0)\n",
    "\n",
    "\n",
    "submission = pd.DataFrame({'SEQN':test_data.SEQN,\n",
    "                           'y':predict_avg.view(-1).detach().numpy()})\n",
    "submission.to_csv('submission.csv', index=False)"
   ]
  },
  {
   "cell_type": "code",
   "execution_count": 52,
   "id": "b66ad042-c7fe-4d7e-8ecf-22b93169d986",
   "metadata": {
    "tags": []
   },
   "outputs": [
    {
     "data": {
      "text/plain": [
       "tensor([[0.5475],\n",
       "        [0.5425],\n",
       "        [0.5433],\n",
       "        ...,\n",
       "        [0.5455],\n",
       "        [0.5456],\n",
       "        [0.5486]], grad_fn=<AddmmBackward0>)"
      ]
     },
     "execution_count": 52,
     "metadata": {},
     "output_type": "execute_result"
    }
   ],
   "source": [
    "model_sets[4](X_train)"
   ]
  }
 ],
 "metadata": {
  "kernelspec": {
   "display_name": "Python 3 (ipykernel)",
   "language": "python",
   "name": "python3"
  },
  "language_info": {
   "codemirror_mode": {
    "name": "ipython",
    "version": 3
   },
   "file_extension": ".py",
   "mimetype": "text/x-python",
   "name": "python",
   "nbconvert_exporter": "python",
   "pygments_lexer": "ipython3",
   "version": "3.11.3"
  }
 },
 "nbformat": 4,
 "nbformat_minor": 5
}
